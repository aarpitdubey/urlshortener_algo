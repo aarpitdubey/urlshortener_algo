{
  "nbformat": 4,
  "nbformat_minor": 0,
  "metadata": {
    "colab": {
      "name": "urlShortener.ipynb",
      "provenance": [],
      "authorship_tag": "ABX9TyMBrGBWxTxtDb0qt/uezHWF",
      "include_colab_link": true
    },
    "kernelspec": {
      "name": "python3",
      "display_name": "Python 3"
    },
    "language_info": {
      "name": "python"
    }
  },
  "cells": [
    {
      "cell_type": "markdown",
      "metadata": {
        "id": "view-in-github",
        "colab_type": "text"
      },
      "source": [
        "<a href=\"https://colab.research.google.com/github/aarpitdubey/urlshortener_algo/blob/main/urlShortener.ipynb\" target=\"_parent\"><img src=\"https://colab.research.google.com/assets/colab-badge.svg\" alt=\"Open In Colab\"/></a>"
      ]
    },
    {
      "cell_type": "code",
      "execution_count": 1,
      "metadata": {
        "colab": {
          "base_uri": "https://localhost:8080/"
        },
        "id": "LgMwHjUIRhK1",
        "outputId": "1d72a50a-2d13-4739-87dc-68a55d57f11b"
      },
      "outputs": [
        {
          "output_type": "stream",
          "name": "stdout",
          "text": [
            "https://www.javatpoint.com/data-structure-tutorial#:~:text=Data%20Structure%20is%20a%20way,%2C%20Sorting%2C%20Programs%2C%20etc.\n",
            "\n",
            "\n",
            "Short URL : aarpitdubey.com/1\n"
          ]
        }
      ],
      "source": [
        "class urlShortner:\n",
        "  urlID = {} # empty dictionary\n",
        "  id = 1 # initially id is one\n",
        "\n",
        "  def trimedURL(self, originalURL):\n",
        "    if originalURL in self.urlID:\n",
        "      id = self.urlID[originalURL]\n",
        "      trimedURL = id\n",
        "    else:\n",
        "      self.urlID[originalURL] = self.id\n",
        "      trimedURL = self.id\n",
        "      self.id += 1\n",
        "    return \"aarpitdubey.com/\"+str(trimedURL)\n",
        "\n",
        "\n",
        "\n",
        "trim = urlShortner()\n",
        "short_url = trim.trimedURL(input())\n",
        "print(f'\\n\\nShort URL : {short_url}')\n",
        "urlShortner.urlID=dict(map(reversed, urlShortner.urlID.items())) # reversing keys and values of dictionary"
      ]
    },
    {
      "cell_type": "code",
      "source": [
        "print(urlShortner.urlID)"
      ],
      "metadata": {
        "colab": {
          "base_uri": "https://localhost:8080/"
        },
        "id": "xV3i_LHfTdL5",
        "outputId": "feac1725-6277-47b7-9279-92397deec1d7"
      },
      "execution_count": 2,
      "outputs": [
        {
          "output_type": "stream",
          "name": "stdout",
          "text": [
            "{1: 'https://www.javatpoint.com/data-structure-tutorial#:~:text=Data%20Structure%20is%20a%20way,%2C%20Sorting%2C%20Programs%2C%20etc.'}\n"
          ]
        }
      ]
    }
  ]
}