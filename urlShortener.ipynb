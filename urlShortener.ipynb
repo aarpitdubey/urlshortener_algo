{
  "nbformat": 4,
  "nbformat_minor": 0,
  "metadata": {
    "colab": {
      "name": "urlShortener.ipynb",
      "provenance": [],
      "collapsed_sections": [],
      "authorship_tag": "ABX9TyPAasHzOV/O0+W9Zfvi1PJA",
      "include_colab_link": true
    },
    "kernelspec": {
      "name": "python3",
      "display_name": "Python 3"
    },
    "language_info": {
      "name": "python"
    }
  },
  "cells": [
    {
      "cell_type": "markdown",
      "metadata": {
        "id": "view-in-github",
        "colab_type": "text"
      },
      "source": [
        "<a href=\"https://colab.research.google.com/github/aarpitdubey/urlshortener_algo/blob/main/urlShortener.ipynb\" target=\"_parent\"><img src=\"https://colab.research.google.com/assets/colab-badge.svg\" alt=\"Open In Colab\"/></a>"
      ]
    },
    {
      "cell_type": "code",
      "execution_count": 1,
      "metadata": {
        "colab": {
          "base_uri": "https://localhost:8080/"
        },
        "id": "LgMwHjUIRhK1",
        "outputId": "d061f08c-9036-41a6-8773-4db9ae6648de"
      },
      "outputs": [
        {
          "output_type": "stream",
          "name": "stdout",
          "text": [
            "https://www.javatpoint.com/data-structure-tutorial#:~:text=Data%20Structure%20is%20a%20way,%2C%20Sorting%2C%20Programs%2C%20etc.\n",
            "\n",
            "\n",
            "Short URL : aarpitdubey.com/1\n"
          ]
        }
      ],
      "source": [
        "class urlShortner:\n",
        "  urlID = {} # empty dictionary\n",
        "  id = 1 # initially id is one\n",
        "\n",
        "  def trimedURL(self, originalURL):\n",
        "    if originalURL in self.urlID:\n",
        "      id = self.urlID[originalURL]\n",
        "      trimedURL = id\n",
        "    else:\n",
        "      self.urlID[originalURL] = self.id\n",
        "      trimedURL = self.id\n",
        "      self.id += 1\n",
        "    return \"aarpitdubey.com/\"+str(trimedURL)\n",
        "\n",
        "trim = urlShortner()\n",
        "short_url = trim.trimedURL(input())\n",
        "print(f'\\n\\nShort URL : {short_url}')\n",
        "\n",
        "# urlShortner.urlID=dict(map(reversed, urlShortner.urlID.items())) # reversing keys and values of dictionary\n",
        "# I try to change the keys as generated values and URL as the values of dictionary but, DUPLICACY or REDUNDANCY problem occurred.\n",
        "# Value can be redundant or duplicate in dictonaries but keys are always unique or distinct."
      ]
    },
    {
      "cell_type": "markdown",
      "source": [
        "Basically, what I'm doing here is:<br>\n",
        "1.) creating a class named urlShortner<br>\n",
        "2.) then inside that class, creating an empty dictionary urlID and id (initially it is 1 or numeric value but i will use some hash code or random codes for this id)<br>\n",
        "3.) I also, defined a function trimedURL(self, originalURL), where it takes argument as input of the original URL.<br>\n",
        "4.) then I implemented the if-else condition to check whether the given URL is present in my dictionary urlID or not, and if it not present the that URL or key must add to dictionary with the generated numeric value as their value and icrease the value of id(value) but if It is present in the dictionary as a key then nothing to do whit that id or values just assign the same id or value again.<br>\n",
        "5.) return the value with user domain here in my case it is \"aarpitdubey.com\""
      ],
      "metadata": {
        "id": "B4zAx8krz9r_"
      }
    },
    {
      "cell_type": "code",
      "source": [
        "print(urlShortner.urlID)"
      ],
      "metadata": {
        "colab": {
          "base_uri": "https://localhost:8080/"
        },
        "id": "xV3i_LHfTdL5",
        "outputId": "44b93d84-ae99-49ba-c5f4-c7f44ba26f80"
      },
      "execution_count": 2,
      "outputs": [
        {
          "output_type": "stream",
          "name": "stdout",
          "text": [
            "{'https://www.javatpoint.com/data-structure-tutorial#:~:text=Data%20Structure%20is%20a%20way,%2C%20Sorting%2C%20Programs%2C%20etc.': 1}\n"
          ]
        }
      ]
    },
    {
      "cell_type": "markdown",
      "source": [
        "Now, lets check does the dictionary contain any duplicate or redundant value or not."
      ],
      "metadata": {
        "id": "afHwRfCH7w-x"
      }
    },
    {
      "cell_type": "code",
      "source": [
        "short_url = trim.trimedURL(input())\n",
        "print(f'\\n\\nShort URL : {short_url}')"
      ],
      "metadata": {
        "colab": {
          "base_uri": "https://localhost:8080/"
        },
        "id": "RitzJePB1moo",
        "outputId": "c98cd15f-851f-4e6f-bea8-2fbc232d0a04"
      },
      "execution_count": 3,
      "outputs": [
        {
          "output_type": "stream",
          "name": "stdout",
          "text": [
            "https://www.javatpoint.com/data-structure-tutorial#:~:text=Data%20Structure%20is%20a%20way,%2C%20Sorting%2C%20Programs%2C%20etc.\n",
            "\n",
            "\n",
            "Short URL : aarpitdubey.com/1\n"
          ]
        }
      ]
    },
    {
      "cell_type": "markdown",
      "source": [
        "**OBSERVATION:** \n",
        "\n",
        "  So, Here we are getting the same shortened URL for the same input hence it doesn't contain any redundant value because keys are always unique in dictionaries\n",
        "\n",
        "\n"
      ],
      "metadata": {
        "id": "Vhb0-Bo3772I"
      }
    }
  ]
}